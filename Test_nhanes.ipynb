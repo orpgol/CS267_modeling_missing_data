{
 "cells": [
  {
   "cell_type": "code",
   "execution_count": 52,
   "metadata": {},
   "outputs": [
    {
     "name": "stdout",
     "output_type": "stream",
     "text": [
      "The autoreload extension is already loaded. To reload it, use:\n",
      "  %reload_ext autoreload\n"
     ]
    }
   ],
   "source": [
    "import pdb\n",
    "import glob\n",
    "\n",
    "import numpy as np\n",
    "import pandas as pd\n",
    "import matplotlib.pyplot as plt\n",
    "from sklearn.ensemble import RandomForestClassifier\n",
    "from sklearn.svm import SVC\n",
    "from sklearn.linear_model import LogisticRegression\n",
    "\n",
    "import Distributions.nhanes as nhanes\n",
    "\n",
    "%matplotlib notebook\n",
    "%load_ext autoreload\n",
    "%autoreload 2"
   ]
  },
  {
   "cell_type": "code",
   "execution_count": 53,
   "metadata": {},
   "outputs": [
    {
     "name": "stdout",
     "output_type": "stream",
     "text": [
      "Processing: VIQ.XPT"
     ]
    }
   ],
   "source": [
    "DATA_PATH = '/Users/kimmo/Documents/projects/OpportunisticLearning/Distributions/run_data/CDC/NHANES/'\n",
    "\n",
    "\n",
    "columns = [\n",
    "        # Gender\n",
    "        nhanes.FeatureColumn('Demographics', 'RIAGENDR', \n",
    "                              None, None),\n",
    "        # Age at time of screening\n",
    "        nhanes.FeatureColumn('Demographics', 'RIDAGEYR', \n",
    "                             nhanes.preproc_cut, [0,12,30,60,81]),\n",
    "        # Alcohol consumption\n",
    "        nhanes.FeatureColumn('Questionnaire', 'ALQ120U', \n",
    "                             nhanes.preproc_lim, 3),\n",
    "        nhanes.FeatureColumn('Questionnaire', 'ALQ120Q', \n",
    "                             nhanes.preproc_lim, 365),\n",
    "        # Smoking\n",
    "        nhanes.FeatureColumn('Questionnaire', 'SMQ020', \n",
    "                             nhanes.preproc_lim, 2),\n",
    "    \n",
    "        # Blood pressure\n",
    "        nhanes.FeatureColumn('Examination', 'BPXDI1', \n",
    "                             nhanes.preproc_cut, [0,80,90,1000]),\n",
    "        # LDL-cholesterol\n",
    "        nhanes.FeatureColumn('Laboratory', 'LBDLDL', \n",
    "                             nhanes.preproc_cut, [0,100,376]),\n",
    "        # BMI\n",
    "        nhanes.FeatureColumn('Examination', 'BMXBMI', \n",
    "                             nhanes.preproc_cut, [0,25,30,1000]),\n",
    "\n",
    "        # TARGET: Fasting Glucose\n",
    "        nhanes.FeatureColumn('Laboratory', 'LBXGLU', \n",
    "                             nhanes.preproc_cut, [0,120,1000]),\n",
    "        # TARGET: Heart\n",
    "        nhanes.FeatureColumn('Questionnaire', 'MCQ160B', \n",
    "                             None, None),\n",
    "        nhanes.FeatureColumn('Questionnaire', 'MCQ160C', \n",
    "                             None, None),\n",
    "        nhanes.FeatureColumn('Questionnaire', 'MCQ160E', \n",
    "                             None, None),\n",
    "        nhanes.FeatureColumn('Questionnaire', 'MCQ160F', \n",
    "                             None, None),\n",
    "    ]\n",
    "\n",
    "dataset = nhanes.NHANES(DATA_PATH, columns)\n",
    "df = dataset.process()\n",
    "\n",
    "len(columns)\n",
    "\n",
    "df.loc[pd.isna(df['ALQ120U']), 'ALQ120Q'] = np.nan\n",
    "df.loc[df['ALQ120U']==1, 'ALQ120Q'] = df['ALQ120Q']/7\n",
    "df.loc[df['ALQ120U']==2, 'ALQ120Q'] = df['ALQ120Q']/30\n",
    "df.loc[df['ALQ120U']==3, 'ALQ120Q'] = df['ALQ120Q']/365\n",
    "df = df.drop(['ALQ120U'], axis=1)\n",
    "df['ALQ120Q'] = pd.cut(df['ALQ120Q'], [0,0.2,1.0], labels=False)\n",
    "\n",
    "(df[['MCQ160E','MCQ160F']] - 1)#.any(1, skipna=False)\n",
    "df_tmp = df.loc[~df['MCQ160E'].isna(), ['MCQ160B', 'MCQ160C', 'MCQ160E', 'MCQ160F']]-1\n",
    "df['HEARTDISEASE'] = ~df_tmp.all(axis=1)\n",
    "df = df.drop( ['MCQ160B', 'MCQ160C', 'MCQ160E', 'MCQ160F'], axis=1)"
   ]
  },
  {
   "cell_type": "code",
   "execution_count": 55,
   "metadata": {},
   "outputs": [],
   "source": [
    "df.RIAGENDR = pd.Categorical(df.RIAGENDR)\n",
    "df.RIAGENDR = df.RIAGENDR.cat.rename_categories({1.0: \"Female\", 2.0: \"Male\"})\n",
    "\n",
    "df.RIDAGEYR = pd.Categorical(df.RIDAGEYR)\n",
    "df.RIDAGEYR = df.RIDAGEYR.cat.rename_categories({0.0: \"age0_12\", 1.0: \"age13_30\", 2.0: \"age31_60\", 3.0: \"age61_81\"})\n",
    "\n",
    "df.ALQ120Q = pd.Categorical(df.ALQ120Q)\n",
    "df.ALQ120Q = df.ALQ120Q.cat.rename_categories({0.0: \"Low\", 1.0: \"High\"})\n",
    "\n",
    "df.SMQ020 = pd.Categorical(df.SMQ020)\n",
    "df.SMQ020 = df.SMQ020.cat.rename_categories({1.0:\"Low\", 2.0:\"High\"})\n",
    "\n",
    "df.BPXDI1 = pd.Categorical(df.BPXDI1)\n",
    "df.BPXDI1 = df.BPXDI1.cat.rename_categories({0.0: \"Under_80\", 1.0: \"at_80_90\", 2.0: \"Over_90\"})\n",
    "\n",
    "df.LBDLDL = pd.Categorical(df.LBDLDL)\n",
    "df.LBDLDL = df.LBDLDL.cat.rename_categories({0.0: \"Under_100\", 1.0: \"Over_100\"})\n",
    "\n",
    "df.BMXBMI = pd.Categorical(df.BMXBMI)\n",
    "df.BMXBMI = df.BMXBMI.cat.rename_categories({0.0: \"Normal\", 1.0: \"Overweight\", 2.0: \"Obese\"})\n",
    "\n",
    "df.LBXGLU = pd.Categorical(df.LBXGLU)\n",
    "df.LBXGLU = df.LBXGLU.cat.rename_categories({0.0: \"Normal\", 1.0: \"High\"})\n",
    "\n",
    "df.HEARTDISEASE = pd.Categorical(df.HEARTDISEASE)\n",
    "df.HEARTDISEASE = df.HEARTDISEASE.cat.rename_categories({False: \"No\", True: \"Yes\"})"
   ]
  },
  {
   "cell_type": "code",
   "execution_count": 56,
   "metadata": {},
   "outputs": [],
   "source": [
    "df.columns = [\"gender\", \"age\", \"alcohol\", \"smoke\", \"blood_pressure\", \"ldl\", \"bmi\", \"glucose\", \"heart_d\"]"
   ]
  },
  {
   "cell_type": "code",
   "execution_count": 57,
   "metadata": {},
   "outputs": [],
   "source": [
    "df.to_csv(\"evidence.csv\", na_rep=\"N/A\", index=False)"
   ]
  },
  {
   "cell_type": "code",
   "execution_count": 106,
   "metadata": {},
   "outputs": [],
   "source": [
    "df.to_pickle('./data.pkl')"
   ]
  },
  {
   "cell_type": "code",
   "execution_count": 4,
   "metadata": {
    "scrolled": false
   },
   "outputs": [
    {
     "data": {
      "text/plain": [
       "[<matplotlib.lines.Line2D at 0x7f2d35b5a5c0>]"
      ]
     },
     "execution_count": 4,
     "metadata": {},
     "output_type": "execute_result"
    },
    {
     "data": {
      "image/png": "[encoded data removed]",
      "text/plain": [
       "<Figure size 432x288 with 1 Axes>"
      ]
     },
     "metadata": {},
     "output_type": "display_data"
    }
   ],
   "source": [
    "#df.set_index('SEQN', inplace=True)\n",
    "plt.figure()\n",
    "plt.plot(df['LBXGLU'], ' ', marker='x')"
   ]
  },
  {
   "cell_type": "code",
   "execution_count": null,
   "metadata": {},
   "outputs": [],
   "source": []
  },
  {
   "cell_type": "code",
   "execution_count": 5,
   "metadata": {},
   "outputs": [
    {
     "data": {
      "text/plain": [
       "RIAGENDR        0.000000\n",
       "RIDAGEYR        0.000000\n",
       "RIDRETH3#1.0    0.000000\n",
       "RIDRETH3#2.0    0.000000\n",
       "RIDRETH3#3.0    0.000000\n",
       "RIDRETH3#4.0    0.000000\n",
       "RIDRETH3#6.0    0.000000\n",
       "RIDRETH3#7.0    0.000000\n",
       "RIDRETH1#1.0    0.000000\n",
       "RIDRETH1#2.0    0.000000\n",
       "RIDRETH1#3.0    0.000000\n",
       "RIDRETH1#4.0    0.000000\n",
       "RIDRETH1#5.0    0.000000\n",
       "INDHHINC        0.000000\n",
       "DMDEDUC2        0.000000\n",
       "BPXSY1          0.000000\n",
       "BPXDI1          0.000000\n",
       "BPXSY2          0.000000\n",
       "BPXDI2          0.000000\n",
       "BPXSY3          0.000000\n",
       "BPXDI3          0.000000\n",
       "BPXSY4          0.000000\n",
       "BPXDI4          0.000000\n",
       "BMXBMI          0.000000\n",
       "BMXWAIST        0.000000\n",
       "BMXHT           0.000000\n",
       "BMXLEG          0.000000\n",
       "BMXWT           0.000000\n",
       "LBXTC           0.000000\n",
       "LBXTR           0.000000\n",
       "LBXGLU          0.723295\n",
       "LBXFB           0.000000\n",
       "LBDLDL          0.000000\n",
       "ALQ101          0.000000\n",
       "ALQ120Q         0.000000\n",
       "PAQ605          0.000000\n",
       "PAQ620          0.000000\n",
       "PAQ180          0.000000\n",
       "SLD010H         0.000000\n",
       "SMQ020#1.0      0.000000\n",
       "SMQ020#2.0      0.000000\n",
       "SMQ020#7.0      0.000000\n",
       "SMQ020#9.0      0.000000\n",
       "SMD030          0.000000\n",
       "MCQ250A         0.000000\n",
       "BPQ020          0.000000\n",
       "dtype: float64"
      ]
     },
     "execution_count": 5,
     "metadata": {},
     "output_type": "execute_result"
    }
   ],
   "source": [
    "pd.isna(df).mean()"
   ]
  },
  {
   "cell_type": "code",
   "execution_count": 6,
   "metadata": {},
   "outputs": [
    {
     "data": {
      "text/html": [
       "<div>\n",
       "<style scoped>\n",
       "    .dataframe tbody tr th:only-of-type {\n",
       "        vertical-align: middle;\n",
       "    }\n",
       "\n",
       "    .dataframe tbody tr th {\n",
       "        vertical-align: top;\n",
       "    }\n",
       "\n",
       "    .dataframe thead th {\n",
       "        text-align: right;\n",
       "    }\n",
       "</style>\n",
       "<table border=\"1\" class=\"dataframe\">\n",
       "  <thead>\n",
       "    <tr style=\"text-align: right;\">\n",
       "      <th></th>\n",
       "      <th>RIAGENDR</th>\n",
       "      <th>RIDAGEYR</th>\n",
       "      <th>RIDRETH3#1.0</th>\n",
       "      <th>RIDRETH3#2.0</th>\n",
       "      <th>RIDRETH3#3.0</th>\n",
       "      <th>RIDRETH3#4.0</th>\n",
       "      <th>RIDRETH3#6.0</th>\n",
       "      <th>RIDRETH3#7.0</th>\n",
       "      <th>RIDRETH1#1.0</th>\n",
       "      <th>RIDRETH1#2.0</th>\n",
       "      <th>...</th>\n",
       "      <th>PAQ620</th>\n",
       "      <th>PAQ180</th>\n",
       "      <th>SLD010H</th>\n",
       "      <th>SMQ020#1.0</th>\n",
       "      <th>SMQ020#2.0</th>\n",
       "      <th>SMQ020#7.0</th>\n",
       "      <th>SMQ020#9.0</th>\n",
       "      <th>SMD030</th>\n",
       "      <th>MCQ250A</th>\n",
       "      <th>BPQ020</th>\n",
       "    </tr>\n",
       "  </thead>\n",
       "  <tbody>\n",
       "    <tr>\n",
       "      <th>count</th>\n",
       "      <td>9.206200e+04</td>\n",
       "      <td>9.206200e+04</td>\n",
       "      <td>92062.000000</td>\n",
       "      <td>92062.000000</td>\n",
       "      <td>92062.000000</td>\n",
       "      <td>92062.000000</td>\n",
       "      <td>92062.000000</td>\n",
       "      <td>92062.000000</td>\n",
       "      <td>92062.000000</td>\n",
       "      <td>92062.000000</td>\n",
       "      <td>...</td>\n",
       "      <td>9.206200e+04</td>\n",
       "      <td>9.206200e+04</td>\n",
       "      <td>9.206200e+04</td>\n",
       "      <td>92062.000000</td>\n",
       "      <td>92062.000000</td>\n",
       "      <td>92062.000000</td>\n",
       "      <td>92062.000000</td>\n",
       "      <td>9.206200e+04</td>\n",
       "      <td>9.206200e+04</td>\n",
       "      <td>9.206200e+04</td>\n",
       "    </tr>\n",
       "    <tr>\n",
       "      <th>mean</th>\n",
       "      <td>-1.389256e-17</td>\n",
       "      <td>-1.636235e-17</td>\n",
       "      <td>0.054376</td>\n",
       "      <td>0.036323</td>\n",
       "      <td>0.105505</td>\n",
       "      <td>0.076894</td>\n",
       "      <td>0.036910</td>\n",
       "      <td>0.014794</td>\n",
       "      <td>0.228998</td>\n",
       "      <td>0.081184</td>\n",
       "      <td>...</td>\n",
       "      <td>1.612772e-15</td>\n",
       "      <td>2.006113e-15</td>\n",
       "      <td>1.197721e-15</td>\n",
       "      <td>0.247420</td>\n",
       "      <td>0.296365</td>\n",
       "      <td>0.000196</td>\n",
       "      <td>0.000434</td>\n",
       "      <td>1.034533e-15</td>\n",
       "      <td>-5.618769e-17</td>\n",
       "      <td>-9.585867e-17</td>\n",
       "    </tr>\n",
       "    <tr>\n",
       "      <th>std</th>\n",
       "      <td>1.000000e+00</td>\n",
       "      <td>1.000000e+00</td>\n",
       "      <td>0.226760</td>\n",
       "      <td>0.187094</td>\n",
       "      <td>0.307205</td>\n",
       "      <td>0.266424</td>\n",
       "      <td>0.188542</td>\n",
       "      <td>0.120730</td>\n",
       "      <td>0.420190</td>\n",
       "      <td>0.273120</td>\n",
       "      <td>...</td>\n",
       "      <td>1.000000e+00</td>\n",
       "      <td>1.000000e+00</td>\n",
       "      <td>1.000000e+00</td>\n",
       "      <td>0.431515</td>\n",
       "      <td>0.456657</td>\n",
       "      <td>0.013982</td>\n",
       "      <td>0.020840</td>\n",
       "      <td>1.000000e+00</td>\n",
       "      <td>1.000000e+00</td>\n",
       "      <td>1.000000e+00</td>\n",
       "    </tr>\n",
       "    <tr>\n",
       "      <th>min</th>\n",
       "      <td>-1.015209e+00</td>\n",
       "      <td>-1.238998e+00</td>\n",
       "      <td>0.000000</td>\n",
       "      <td>0.000000</td>\n",
       "      <td>0.000000</td>\n",
       "      <td>0.000000</td>\n",
       "      <td>0.000000</td>\n",
       "      <td>0.000000</td>\n",
       "      <td>0.000000</td>\n",
       "      <td>0.000000</td>\n",
       "      <td>...</td>\n",
       "      <td>-2.231615e+00</td>\n",
       "      <td>-2.446954e+00</td>\n",
       "      <td>-6.881635e+00</td>\n",
       "      <td>0.000000</td>\n",
       "      <td>0.000000</td>\n",
       "      <td>0.000000</td>\n",
       "      <td>0.000000</td>\n",
       "      <td>-5.252929e+00</td>\n",
       "      <td>-2.534132e+00</td>\n",
       "      <td>-1.925925e+00</td>\n",
       "    </tr>\n",
       "    <tr>\n",
       "      <th>25%</th>\n",
       "      <td>-1.015209e+00</td>\n",
       "      <td>-8.368046e-01</td>\n",
       "      <td>0.000000</td>\n",
       "      <td>0.000000</td>\n",
       "      <td>0.000000</td>\n",
       "      <td>0.000000</td>\n",
       "      <td>0.000000</td>\n",
       "      <td>0.000000</td>\n",
       "      <td>0.000000</td>\n",
       "      <td>0.000000</td>\n",
       "      <td>...</td>\n",
       "      <td>1.507327e-15</td>\n",
       "      <td>2.060069e-15</td>\n",
       "      <td>1.034343e-15</td>\n",
       "      <td>0.000000</td>\n",
       "      <td>0.000000</td>\n",
       "      <td>0.000000</td>\n",
       "      <td>0.000000</td>\n",
       "      <td>1.079648e-15</td>\n",
       "      <td>0.000000e+00</td>\n",
       "      <td>0.000000e+00</td>\n",
       "    </tr>\n",
       "    <tr>\n",
       "      <th>50%</th>\n",
       "      <td>9.850084e-01</td>\n",
       "      <td>-3.139534e-01</td>\n",
       "      <td>0.000000</td>\n",
       "      <td>0.000000</td>\n",
       "      <td>0.000000</td>\n",
       "      <td>0.000000</td>\n",
       "      <td>0.000000</td>\n",
       "      <td>0.000000</td>\n",
       "      <td>0.000000</td>\n",
       "      <td>0.000000</td>\n",
       "      <td>...</td>\n",
       "      <td>1.507327e-15</td>\n",
       "      <td>2.060069e-15</td>\n",
       "      <td>1.034343e-15</td>\n",
       "      <td>0.000000</td>\n",
       "      <td>0.000000</td>\n",
       "      <td>0.000000</td>\n",
       "      <td>0.000000</td>\n",
       "      <td>1.079648e-15</td>\n",
       "      <td>0.000000e+00</td>\n",
       "      <td>0.000000e+00</td>\n",
       "    </tr>\n",
       "    <tr>\n",
       "      <th>75%</th>\n",
       "      <td>9.850084e-01</td>\n",
       "      <td>8.121878e-01</td>\n",
       "      <td>0.000000</td>\n",
       "      <td>0.000000</td>\n",
       "      <td>0.000000</td>\n",
       "      <td>0.000000</td>\n",
       "      <td>0.000000</td>\n",
       "      <td>0.000000</td>\n",
       "      <td>0.000000</td>\n",
       "      <td>0.000000</td>\n",
       "      <td>...</td>\n",
       "      <td>1.162583e+00</td>\n",
       "      <td>2.060069e-15</td>\n",
       "      <td>1.034343e-15</td>\n",
       "      <td>0.000000</td>\n",
       "      <td>1.000000</td>\n",
       "      <td>0.000000</td>\n",
       "      <td>0.000000</td>\n",
       "      <td>1.079648e-15</td>\n",
       "      <td>0.000000e+00</td>\n",
       "      <td>8.376135e-01</td>\n",
       "    </tr>\n",
       "    <tr>\n",
       "      <th>max</th>\n",
       "      <td>9.850084e-01</td>\n",
       "      <td>2.179645e+00</td>\n",
       "      <td>1.000000</td>\n",
       "      <td>1.000000</td>\n",
       "      <td>1.000000</td>\n",
       "      <td>1.000000</td>\n",
       "      <td>1.000000</td>\n",
       "      <td>1.000000</td>\n",
       "      <td>1.000000</td>\n",
       "      <td>1.000000</td>\n",
       "      <td>...</td>\n",
       "      <td>1.162583e+00</td>\n",
       "      <td>4.511342e+00</td>\n",
       "      <td>5.928597e+00</td>\n",
       "      <td>1.000000</td>\n",
       "      <td>1.000000</td>\n",
       "      <td>1.000000</td>\n",
       "      <td>1.000000</td>\n",
       "      <td>1.662742e+01</td>\n",
       "      <td>2.423348e+00</td>\n",
       "      <td>8.376135e-01</td>\n",
       "    </tr>\n",
       "  </tbody>\n",
       "</table>\n",
       "<p>8 rows × 46 columns</p>\n",
       "</div>"
      ],
      "text/plain": [
       "           RIAGENDR      RIDAGEYR  RIDRETH3#1.0  RIDRETH3#2.0  RIDRETH3#3.0  \\\n",
       "count  9.206200e+04  9.206200e+04  92062.000000  92062.000000  92062.000000   \n",
       "mean  -1.389256e-17 -1.636235e-17      0.054376      0.036323      0.105505   \n",
       "std    1.000000e+00  1.000000e+00      0.226760      0.187094      0.307205   \n",
       "min   -1.015209e+00 -1.238998e+00      0.000000      0.000000      0.000000   \n",
       "25%   -1.015209e+00 -8.368046e-01      0.000000      0.000000      0.000000   \n",
       "50%    9.850084e-01 -3.139534e-01      0.000000      0.000000      0.000000   \n",
       "75%    9.850084e-01  8.121878e-01      0.000000      0.000000      0.000000   \n",
       "max    9.850084e-01  2.179645e+00      1.000000      1.000000      1.000000   \n",
       "\n",
       "       RIDRETH3#4.0  RIDRETH3#6.0  RIDRETH3#7.0  RIDRETH1#1.0  RIDRETH1#2.0  \\\n",
       "count  92062.000000  92062.000000  92062.000000  92062.000000  92062.000000   \n",
       "mean       0.076894      0.036910      0.014794      0.228998      0.081184   \n",
       "std        0.266424      0.188542      0.120730      0.420190      0.273120   \n",
       "min        0.000000      0.000000      0.000000      0.000000      0.000000   \n",
       "25%        0.000000      0.000000      0.000000      0.000000      0.000000   \n",
       "50%        0.000000      0.000000      0.000000      0.000000      0.000000   \n",
       "75%        0.000000      0.000000      0.000000      0.000000      0.000000   \n",
       "max        1.000000      1.000000      1.000000      1.000000      1.000000   \n",
       "\n",
       "           ...             PAQ620        PAQ180       SLD010H    SMQ020#1.0  \\\n",
       "count      ...       9.206200e+04  9.206200e+04  9.206200e+04  92062.000000   \n",
       "mean       ...       1.612772e-15  2.006113e-15  1.197721e-15      0.247420   \n",
       "std        ...       1.000000e+00  1.000000e+00  1.000000e+00      0.431515   \n",
       "min        ...      -2.231615e+00 -2.446954e+00 -6.881635e+00      0.000000   \n",
       "25%        ...       1.507327e-15  2.060069e-15  1.034343e-15      0.000000   \n",
       "50%        ...       1.507327e-15  2.060069e-15  1.034343e-15      0.000000   \n",
       "75%        ...       1.162583e+00  2.060069e-15  1.034343e-15      0.000000   \n",
       "max        ...       1.162583e+00  4.511342e+00  5.928597e+00      1.000000   \n",
       "\n",
       "         SMQ020#2.0    SMQ020#7.0    SMQ020#9.0        SMD030       MCQ250A  \\\n",
       "count  92062.000000  92062.000000  92062.000000  9.206200e+04  9.206200e+04   \n",
       "mean       0.296365      0.000196      0.000434  1.034533e-15 -5.618769e-17   \n",
       "std        0.456657      0.013982      0.020840  1.000000e+00  1.000000e+00   \n",
       "min        0.000000      0.000000      0.000000 -5.252929e+00 -2.534132e+00   \n",
       "25%        0.000000      0.000000      0.000000  1.079648e-15  0.000000e+00   \n",
       "50%        0.000000      0.000000      0.000000  1.079648e-15  0.000000e+00   \n",
       "75%        1.000000      0.000000      0.000000  1.079648e-15  0.000000e+00   \n",
       "max        1.000000      1.000000      1.000000  1.662742e+01  2.423348e+00   \n",
       "\n",
       "             BPQ020  \n",
       "count  9.206200e+04  \n",
       "mean  -9.585867e-17  \n",
       "std    1.000000e+00  \n",
       "min   -1.925925e+00  \n",
       "25%    0.000000e+00  \n",
       "50%    0.000000e+00  \n",
       "75%    8.376135e-01  \n",
       "max    8.376135e-01  \n",
       "\n",
       "[8 rows x 46 columns]"
      ]
     },
     "execution_count": 6,
     "metadata": {},
     "output_type": "execute_result"
    }
   ],
   "source": [
    "df.describe()"
   ]
  },
  {
   "cell_type": "markdown",
   "metadata": {},
   "source": [
    "## Diabetes Prediction"
   ]
  },
  {
   "cell_type": "code",
   "execution_count": 7,
   "metadata": {},
   "outputs": [],
   "source": [
    "features = df.loc[:, df.columns != 'LBXGLU'].as_matrix()\n",
    "targets_LBXGLU = df['LBXGLU'].as_matrix()\n",
    "# remove nan labeled samples\n",
    "inds_valid = ~ np.isnan(targets_LBXGLU)\n",
    "features = features[inds_valid]\n",
    "targets_LBXGLU = targets_LBXGLU[inds_valid]\n",
    "targets = np.zeros(targets_LBXGLU.shape[0])\n",
    "targets[targets_LBXGLU <= 100] = 0\n",
    "targets[np.logical_and(targets_LBXGLU<125,targets_LBXGLU>100)] = 1\n",
    "targets[targets_LBXGLU >= 125] = 2\n",
    "\n",
    "perm = np.random.permutation(targets.shape[0])\n",
    "dataset_features = features[perm]\n",
    "dataset_targets = targets[perm]\n",
    "\n",
    "def get_batch(n_size, phase):\n",
    "    # select indices\n",
    "    n_samples = dataset_features.shape[0]\n",
    "    n_classes = int(dataset_targets.max() + 1)\n",
    "    if phase == 'test':\n",
    "        inds_sel = np.arange(0, int(n_samples*0.15), 1)\n",
    "    elif phase == 'validation':\n",
    "        n_samples = dataset_features.shape[0]\n",
    "        inds_sel = np.arange(int(n_samples*0.15), int(n_samples*0.30), 1)\n",
    "    elif phase == 'train':\n",
    "        n_samples = dataset_features.shape[0]\n",
    "        inds_sel = np.arange(int(n_samples*0.30), n_samples, 1)\n",
    "    else:\n",
    "        raise NotImplementedError\n",
    "    inds_sel = np.random.permutation(inds_sel)\n",
    "    batch_inds = []\n",
    "    for cl in range(n_classes):\n",
    "        inds_cl = inds_sel[dataset_targets[inds_sel] == cl]\n",
    "        batch_inds.extend(inds_cl[:n_size//n_classes])\n",
    "    batch_inds = np.random.permutation(batch_inds)\n",
    "    \n",
    "    return dataset_features[batch_inds], dataset_targets[batch_inds]\n",
    "    \n",
    "#get_batch(n_size=100, phase='test')\n",
    "\n"
   ]
  },
  {
   "cell_type": "code",
   "execution_count": 8,
   "metadata": {},
   "outputs": [
    {
     "data": {
      "text/plain": [
       "(25474, 45)"
      ]
     },
     "execution_count": 8,
     "metadata": {},
     "output_type": "execute_result"
    }
   ],
   "source": [
    "dataset_features.shape"
   ]
  },
  {
   "cell_type": "code",
   "execution_count": 9,
   "metadata": {},
   "outputs": [
    {
     "name": "stdout",
     "output_type": "stream",
     "text": [
      "accu_tst_RFC 0.5985985985985987\n",
      "accu_tst_SVC 0.5835835835835835\n",
      "accu_tst_LR 0.6086086086086087\n"
     ]
    }
   ],
   "source": [
    "# features = df.loc[:, df.columns != 'LBXGLU'].as_matrix()\n",
    "# targets_LBXGLU = df['LBXGLU'].as_matrix()\n",
    "# targets = np.zeros(targets_LBXGLU.shape[0])\n",
    "# targets[targets_LBXGLU <= 100] = 1\n",
    "# targets[np.logical_and(targets_LBXGLU<125,targets_LBXGLU>100)] = 2\n",
    "# targets[targets_LBXGLU >= 125] = 3\n",
    "\n",
    "# test and train separation\n",
    "# perm = np.random.permutation(targets.shape[0])\n",
    "# inds_tst = perm[:int(len(perm)*0.2)]\n",
    "# inds_trn = perm[int(len(perm)*0.2):]\n",
    "\n",
    "\n",
    "features_trn, targets_trn = get_batch(n_size=5000, phase='train')\n",
    "features_tst, targets_tst = get_batch(n_size=1000, phase='test')\n",
    "\n",
    "#clf = SVC()\n",
    "clf = RandomForestClassifier(n_estimators=100)\n",
    "clf.fit(features_trn, targets_trn)\n",
    "preds_tst = clf.predict(features_tst)\n",
    "accu = np.mean(preds_tst==targets_tst)\n",
    "print('accu_tst_RFC', accu)\n",
    "\n",
    "clf = SVC()\n",
    "clf.fit(features_trn, targets_trn)\n",
    "preds_tst = clf.predict(features_tst)\n",
    "accu = np.mean(preds_tst==targets_tst)\n",
    "print('accu_tst_SVC', accu)\n",
    "\n",
    "clf = LogisticRegression()\n",
    "clf.fit(features_trn, targets_trn)\n",
    "preds_tst = clf.predict(features_tst)\n",
    "accu = np.mean(preds_tst==targets_tst)\n",
    "print('accu_tst_LR', accu)\n",
    "\n",
    "# tp = (np.logical_and(preds_tst==1, targets_tst==1)).sum()\n",
    "# fp = (np.logical_and(preds_tst==1, targets_tst==0)).sum()\n",
    "# fn = (np.logical_and(preds_tst==0, targets_tst==1)).sum()\n",
    "# precision = (tp) / (tp+fp)\n",
    "# recall = (tp) / (fn+tp)\n",
    "# print('precision', precision)\n",
    "# print('recall', recall)\n"
   ]
  },
  {
   "cell_type": "code",
   "execution_count": 10,
   "metadata": {},
   "outputs": [
    {
     "data": {
      "text/plain": [
       "0.3333333333333333"
      ]
     },
     "execution_count": 10,
     "metadata": {},
     "output_type": "execute_result"
    },
    {
     "data": {
      "image/png": "[encoded data removed]",
      "text/plain": [
       "<Figure size 432x288 with 1 Axes>"
      ]
     },
     "metadata": {},
     "output_type": "display_data"
    },
    {
     "data": {
      "image/png": "[encoded data removed]",
      "text/plain": [
       "<Figure size 432x288 with 1 Axes>"
      ]
     },
     "metadata": {},
     "output_type": "display_data"
    }
   ],
   "source": [
    "plt.hist(dataset_targets)\n",
    "#plt.hist(targets_trn)\n",
    "#plt.hist(targets_tst)\n",
    "\n",
    "plt.figure()\n",
    "plt.hist(preds_tst)\n",
    "\n",
    "np.mean(targets_tst==2)"
   ]
  },
  {
   "cell_type": "code",
   "execution_count": 11,
   "metadata": {},
   "outputs": [
    {
     "data": {
      "text/plain": [
       "0"
      ]
     },
     "execution_count": 11,
     "metadata": {},
     "output_type": "execute_result"
    }
   ],
   "source": [
    "np.sum(targets == 3)"
   ]
  }
 ],
 "metadata": {
  "kernelspec": {
   "display_name": "Python 3",
   "language": "python",
   "name": "python3"
  },
  "language_info": {
   "codemirror_mode": {
    "name": "ipython",
    "version": 3
   },
   "file_extension": ".py",
   "mimetype": "text/x-python",
   "name": "python",
   "nbconvert_exporter": "python",
   "pygments_lexer": "ipython3",
   "version": "3.6.6"
  }
 },
 "nbformat": 4,
 "nbformat_minor": 2
}
