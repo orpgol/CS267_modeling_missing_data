{
 "cells": [
  {
   "cell_type": "code",
   "execution_count": 235,
   "metadata": {},
   "outputs": [],
   "source": [
    "import matplotlib.pyplot as plt\n",
    "import matplotlib.gridspec as gridspec\n",
    "from multiprocessing import Process, Queue\n",
    "import os\n",
    "import numpy as np\n",
    "import seaborn as sns\n",
    "import tensorflow as tf\n",
    "import pandas as pd\n",
    "from scipy.misc import imsave\n",
    "import scipy.stats\n",
    "import random\n",
    "from sklearn.metrics import accuracy_score\n",
    "\n",
    "from problog import get_evaluatable\n",
    "from problog.program import PrologString, SimpleProgram\n",
    "from problog.core import ProbLog\n",
    "from problog.logic import Constant,Var,Term,AnnotatedDisjunction\n",
    "from problog.learning import lfi\n",
    "\n",
    "%matplotlib notebook"
   ]
  },
  {
   "cell_type": "code",
   "execution_count": 232,
   "metadata": {},
   "outputs": [],
   "source": [
    "st1 = \"\"\"\n",
    "st1 += \"t(0.5)::gender_male;\\n0.5::gender_female.\\n\"\n",
    "st1 += \"t(0.25)::age_1;\\n0.25::age_2;\\n0.25::age_3;\\n0.25::age_4.\\n\"\n",
    "\"\"\"\n",
    "\n",
    "# st1 += \"0.5::alcohol.\\n\"\n",
    "# st1 += \"0.5::smoke.\\n\"\n",
    "# st1 += \"0.5::blood_pressure.\\n\"\n",
    "# st1 += \"0.5::ldl.\\n\"\n",
    "# st1 += \"0.5::bmi.\\n\"\n",
    "# st1 += \"0.5::heart_d.\\n\"\n",
    "# st1 += \"0.5::glucose.\\n\"\n"
   ]
  },
  {
   "cell_type": "code",
   "execution_count": 233,
   "metadata": {},
   "outputs": [],
   "source": [
    "st2 = \"\"\n",
    "st2 += \"t(0.5)::blood_pressure:-gender_male.\\n\"\n",
    "st2 += \"t(0.5)::blood_pressure:-gender_female.\\n\"\n",
    "\n",
    "# st2 += \"0.25::blood_pressure:-age_1.\\n\"\n",
    "# st2 += \"0.25::blood_pressure:-age_2.\\n\"\n",
    "# st2 += \"0.25::blood_pressure:-age_3.\\n\"\n",
    "# st2 += \"0.25::blood_pressure:-age_4.\\n\"\n",
    "\n",
    "# st2 += \"t(-)::blood_pressure:-alcohol.\\n\"\n",
    "# st2 += \"t(-)::blood_pressure:-smoke.\\n\""
   ]
  },
  {
   "cell_type": "code",
   "execution_count": 268,
   "metadata": {},
   "outputs": [],
   "source": [
    "model = \"\"\"\n",
    "t(0.5)::gender_male;t(0.5)::gender_female.\n",
    "t(0.25)::age_1;t(0.25)::age_2;t(0.25)::age_3;t(0.25)::age_4.\n",
    "\n",
    "\n",
    "t(0.5)::blood_pressure:-gender_male.\n",
    "t(0.5)::blood_pressure:-gender_female.\n",
    "\n",
    "t(_)::blood_pressure:-age_1.\n",
    "t(_)::blood_pressure:-age_2.\n",
    "t(_)::blood_pressure:-age_3.\n",
    "t(_)::blood_pressure:-age_4.\n",
    "\n",
    "\n",
    "\"\"\""
   ]
  },
  {
   "cell_type": "code",
   "execution_count": 269,
   "metadata": {},
   "outputs": [],
   "source": [
    "gender_male = Term('gender_male')\n",
    "gender_female = Term('gender_female')\n",
    "\n",
    "age_1 = Term('age_1')\n",
    "age_2 = Term('age_2')\n",
    "age_3 = Term('age_3')\n",
    "age_4 = Term('age_4')\n",
    "\n",
    "\n",
    "\n",
    "blood_pressure = Term('blood_pressure')"
   ]
  },
  {
   "cell_type": "code",
   "execution_count": 270,
   "metadata": {},
   "outputs": [],
   "source": [
    "examples = [\n",
    "    [(gender_female, True), (age_2, True), (blood_pressure, True)],\n",
    "    [(gender_female, False), (age_2, False), (blood_pressure, False)]\n",
    "]"
   ]
  },
  {
   "cell_type": "code",
   "execution_count": 271,
   "metadata": {},
   "outputs": [],
   "source": [
    "score, weights, atoms, iteration, lfi_problem = lfi.run_lfi(PrologString(model), examples)"
   ]
  },
  {
   "cell_type": "code",
   "execution_count": 272,
   "metadata": {},
   "outputs": [
    {
     "name": "stdout",
     "output_type": "stream",
     "text": [
      "0.5::gender_male; 0.5::gender_female.\n",
      "8.747042536e-06::age_1; 0.5::age_2; 0.0::age_3; 0.499990750635133::age_4.\n",
      "0.0::blood_pressure :- gender_male.\n",
      "1.0::blood_pressure :- gender_female.\n",
      "0.00237871623847::blood_pressure :- age_1.\n",
      "0.667350415482241::blood_pressure :- age_2.\n",
      "0.130627868887896::blood_pressure :- age_3.\n",
      "0.0::blood_pressure :- age_4.\n",
      "\n"
     ]
    }
   ],
   "source": [
    "print (lfi_problem.get_model())"
   ]
  },
  {
   "cell_type": "code",
   "execution_count": null,
   "metadata": {},
   "outputs": [],
   "source": []
  }
 ],
 "metadata": {
  "kernelspec": {
   "display_name": "Python 3",
   "language": "python",
   "name": "python3"
  },
  "language_info": {
   "codemirror_mode": {
    "name": "ipython",
    "version": 3
   },
   "file_extension": ".py",
   "mimetype": "text/x-python",
   "name": "python",
   "nbconvert_exporter": "python",
   "pygments_lexer": "ipython3",
   "version": "3.6.0"
  }
 },
 "nbformat": 4,
 "nbformat_minor": 2
}
